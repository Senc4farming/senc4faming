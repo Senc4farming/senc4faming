{
 "cells": [
  {
   "cell_type": "markdown",
   "metadata": {},
   "source": [
    "# Multi-variate Rregression\n",
    "\n",
    "Linear fit is often inadequate but higher-order polynomial fits often leads to overfitting i.e. learns spurious, flawed relationships between input and output\n",
    "R-square fit can often be misleding measure in case of high-dimensional regression\n",
    "Metamodel can be constructed by selectively discovering features (or their combination) which matter and shrinking other high-order terms towards zero\n",
    "LASSO: Least Absolute Shrinkage and Selection Operator\n",
    " \n",
    " \n",
    " \n",
    " \n",
    "Import libraries\n",
    "\n",
    "\n",
    "https://github.com/tirthajyoti/Machine-Learning-with-Python/blob/master/Regression/Multi-variate%20LASSO%20regression%20with%20CV.ipynb\n",
    "https://www.saedsayad.com/support_vector_machine_reg.htm"
   ]
  },
  {
   "cell_type": "code",
   "execution_count": 1,
   "metadata": {},
   "outputs": [],
   "source": [
    "import numpy as np\n",
    "import pandas as pd\n",
    "import matplotlib.pyplot as plt\n",
    "from sklearn.linear_model import LinearRegression\n",
    "%matplotlib inline"
   ]
  },
  {
   "cell_type": "markdown",
   "metadata": {},
   "source": [
    "### Multi-variate regression\n"
   ]
  },
  {
   "cell_type": "markdown",
   "metadata": {},
   "source": [
    "### Prepare data"
   ]
  },
  {
   "cell_type": "code",
   "execution_count": 2,
   "metadata": {},
   "outputs": [
    {
     "data": {
      "text/html": [
       "<div>\n",
       "<style scoped>\n",
       "    .dataframe tbody tr th:only-of-type {\n",
       "        vertical-align: middle;\n",
       "    }\n",
       "\n",
       "    .dataframe tbody tr th {\n",
       "        vertical-align: top;\n",
       "    }\n",
       "\n",
       "    .dataframe thead th {\n",
       "        text-align: right;\n",
       "    }\n",
       "</style>\n",
       "<table border=\"1\" class=\"dataframe\">\n",
       "  <thead>\n",
       "    <tr style=\"text-align: right;\">\n",
       "      <th>band</th>\n",
       "      <th>02</th>\n",
       "      <th>03</th>\n",
       "      <th>04</th>\n",
       "      <th>05</th>\n",
       "      <th>06</th>\n",
       "      <th>07</th>\n",
       "      <th>08</th>\n",
       "      <th>11</th>\n",
       "      <th>12</th>\n",
       "      <th>8A</th>\n",
       "    </tr>\n",
       "    <tr>\n",
       "      <th>coords</th>\n",
       "      <th></th>\n",
       "      <th></th>\n",
       "      <th></th>\n",
       "      <th></th>\n",
       "      <th></th>\n",
       "      <th></th>\n",
       "      <th></th>\n",
       "      <th></th>\n",
       "      <th></th>\n",
       "      <th></th>\n",
       "    </tr>\n",
       "  </thead>\n",
       "  <tbody>\n",
       "    <tr>\n",
       "      <th>(-5.54839898, 42.37787055)</th>\n",
       "      <td>0.1845</td>\n",
       "      <td>0.2251</td>\n",
       "      <td>0.2486</td>\n",
       "      <td>0.2987</td>\n",
       "      <td>0.3717</td>\n",
       "      <td>0.3943</td>\n",
       "      <td>0.4030</td>\n",
       "      <td>0.3723</td>\n",
       "      <td>0.3017</td>\n",
       "      <td>0.4088</td>\n",
       "    </tr>\n",
       "    <tr>\n",
       "      <th>(-5.54799999, 42.37965659)</th>\n",
       "      <td>0.1978</td>\n",
       "      <td>0.2343</td>\n",
       "      <td>0.2706</td>\n",
       "      <td>0.3143</td>\n",
       "      <td>0.3766</td>\n",
       "      <td>0.3964</td>\n",
       "      <td>0.4002</td>\n",
       "      <td>0.4084</td>\n",
       "      <td>0.3445</td>\n",
       "      <td>0.4048</td>\n",
       "    </tr>\n",
       "    <tr>\n",
       "      <th>(-5.54669242, 42.40362733)</th>\n",
       "      <td>0.1854</td>\n",
       "      <td>0.2335</td>\n",
       "      <td>0.2539</td>\n",
       "      <td>0.3159</td>\n",
       "      <td>0.4198</td>\n",
       "      <td>0.4494</td>\n",
       "      <td>0.4428</td>\n",
       "      <td>0.3950</td>\n",
       "      <td>0.3251</td>\n",
       "      <td>0.4586</td>\n",
       "    </tr>\n",
       "    <tr>\n",
       "      <th>(-5.54636819, 42.40427712)</th>\n",
       "      <td>0.1808</td>\n",
       "      <td>0.2170</td>\n",
       "      <td>0.2383</td>\n",
       "      <td>0.2893</td>\n",
       "      <td>0.3858</td>\n",
       "      <td>0.4116</td>\n",
       "      <td>0.3833</td>\n",
       "      <td>0.3671</td>\n",
       "      <td>0.2912</td>\n",
       "      <td>0.4241</td>\n",
       "    </tr>\n",
       "    <tr>\n",
       "      <th>(-5.54035797, 42.42232626)</th>\n",
       "      <td>0.1800</td>\n",
       "      <td>0.2242</td>\n",
       "      <td>0.2545</td>\n",
       "      <td>0.3083</td>\n",
       "      <td>0.3921</td>\n",
       "      <td>0.4134</td>\n",
       "      <td>0.4100</td>\n",
       "      <td>0.4110</td>\n",
       "      <td>0.3289</td>\n",
       "      <td>0.4312</td>\n",
       "    </tr>\n",
       "  </tbody>\n",
       "</table>\n",
       "</div>"
      ],
      "text/plain": [
       "band                            02      03      04      05      06      07  \\\n",
       "coords                                                                       \n",
       "(-5.54839898, 42.37787055)  0.1845  0.2251  0.2486  0.2987  0.3717  0.3943   \n",
       "(-5.54799999, 42.37965659)  0.1978  0.2343  0.2706  0.3143  0.3766  0.3964   \n",
       "(-5.54669242, 42.40362733)  0.1854  0.2335  0.2539  0.3159  0.4198  0.4494   \n",
       "(-5.54636819, 42.40427712)  0.1808  0.2170  0.2383  0.2893  0.3858  0.4116   \n",
       "(-5.54035797, 42.42232626)  0.1800  0.2242  0.2545  0.3083  0.3921  0.4134   \n",
       "\n",
       "band                            08      11      12      8A  \n",
       "coords                                                      \n",
       "(-5.54839898, 42.37787055)  0.4030  0.3723  0.3017  0.4088  \n",
       "(-5.54799999, 42.37965659)  0.4002  0.4084  0.3445  0.4048  \n",
       "(-5.54669242, 42.40362733)  0.4428  0.3950  0.3251  0.4586  \n",
       "(-5.54636819, 42.40427712)  0.3833  0.3671  0.2912  0.4241  \n",
       "(-5.54035797, 42.42232626)  0.4100  0.4110  0.3289  0.4312  "
      ]
     },
     "execution_count": 2,
     "metadata": {},
     "output_type": "execute_result"
    }
   ],
   "source": [
    "df = pd.read_csv(\"out1.csv\")\n",
    "df.head()\n",
    "df[\"coords\"]=list(zip(df[\"long\"], df[\"lat\"]))\n",
    "df.pivot_table(index=\"coords\",\n",
    "               columns=\"band\",\n",
    "               values = \"map_rescaled\").head()"
   ]
  },
  {
   "cell_type": "code",
   "execution_count": 3,
   "metadata": {},
   "outputs": [
    {
     "data": {
      "text/plain": [
       "array([[0.06823593, 0.09585686, 0.11184434, ..., 0.19599973, 0.14796925,\n",
       "        0.22083135],\n",
       "       [0.07728417, 0.10211579, 0.12681135, ..., 0.22055922, 0.17708688,\n",
       "        0.21811008],\n",
       "       [0.06884822, 0.10157154, 0.11545003, ..., 0.21144296, 0.1638887 ,\n",
       "        0.2547112 ],\n",
       "       ...,\n",
       "       [0.07422274, 0.09014219, 0.10524525, ..., 0.19756446, 0.15973876,\n",
       "        0.17620246],\n",
       "       [0.10742227, 0.14463569, 0.18627117, ..., 0.25062929, 0.21021838,\n",
       "        0.2140962 ],\n",
       "       [0.10646983, 0.14130213, 0.17817539, ..., 0.2412409 , 0.20538812,\n",
       "        0.2153888 ]])"
      ]
     },
     "execution_count": 3,
     "metadata": {},
     "output_type": "execute_result"
    }
   ],
   "source": [
    "import numpy as np\n",
    "\n",
    "X = df.pivot_table(index=\"coords\",\n",
    "               columns=\"band\",\n",
    "               values = \"map_rescaled\",aggfunc=np.mean).values\n",
    "'''X = (X_sin_normalizar-np.min(X_sin_normalizar))/(np.max(X_sin_normalizar)-np.min(X_sin_normalizar))'''\n",
    "\n",
    "X"
   ]
  },
  {
   "cell_type": "code",
   "execution_count": 4,
   "metadata": {},
   "outputs": [
    {
     "data": {
      "text/plain": [
       "array([0.17574528, 0.19240015, 0.14434393, ..., 0.23618544, 0.21240085,\n",
       "       0.23618544])"
      ]
     },
     "execution_count": 4,
     "metadata": {},
     "output_type": "execute_result"
    }
   ],
   "source": [
    "y = df.groupby(\"coords\").mean()[\"read\"].values\n",
    "'''y = (y_sin_normalizar-np.min(y_sin_normalizar))/(np.max(y_sin_normalizar)-np.min(y_sin_normalizar))'''\n",
    "y"
   ]
  },
  {
   "cell_type": "code",
   "execution_count": 5,
   "metadata": {},
   "outputs": [
    {
     "data": {
      "text/plain": [
       "coords\n",
       "(-5.54839898, 42.37787055)    2.094522\n",
       "(-5.54799999, 42.37965659)    2.262026\n",
       "(-5.54669242, 42.40362733)    1.778708\n",
       "(-5.54636819, 42.40427712)    2.119930\n",
       "(-5.54035797, 42.42232626)    1.168122\n",
       "Name: 02, dtype: float64"
      ]
     },
     "execution_count": 5,
     "metadata": {},
     "output_type": "execute_result"
    }
   ],
   "source": [
    "df.pivot_table(index=\"coords\",\n",
    "               columns=\"band\",\n",
    "               values = \"read\").head()['02']"
   ]
  },
  {
   "cell_type": "code",
   "execution_count": 6,
   "metadata": {},
   "outputs": [
    {
     "data": {
      "text/html": [
       "<div>\n",
       "<style scoped>\n",
       "    .dataframe tbody tr th:only-of-type {\n",
       "        vertical-align: middle;\n",
       "    }\n",
       "\n",
       "    .dataframe tbody tr th {\n",
       "        vertical-align: top;\n",
       "    }\n",
       "\n",
       "    .dataframe thead th {\n",
       "        text-align: right;\n",
       "    }\n",
       "</style>\n",
       "<table border=\"1\" class=\"dataframe\">\n",
       "  <thead>\n",
       "    <tr style=\"text-align: right;\">\n",
       "      <th></th>\n",
       "      <th>02</th>\n",
       "      <th>03</th>\n",
       "      <th>04</th>\n",
       "      <th>05</th>\n",
       "      <th>06</th>\n",
       "      <th>07</th>\n",
       "      <th>08</th>\n",
       "      <th>11</th>\n",
       "      <th>12</th>\n",
       "      <th>8A</th>\n",
       "    </tr>\n",
       "  </thead>\n",
       "  <tbody>\n",
       "    <tr>\n",
       "      <th>0</th>\n",
       "      <td>0.068236</td>\n",
       "      <td>0.095857</td>\n",
       "      <td>0.111844</td>\n",
       "      <td>0.145928</td>\n",
       "      <td>0.195592</td>\n",
       "      <td>0.210967</td>\n",
       "      <td>0.216886</td>\n",
       "      <td>0.196000</td>\n",
       "      <td>0.147969</td>\n",
       "      <td>0.220831</td>\n",
       "    </tr>\n",
       "    <tr>\n",
       "      <th>1</th>\n",
       "      <td>0.077284</td>\n",
       "      <td>0.102116</td>\n",
       "      <td>0.126811</td>\n",
       "      <td>0.156541</td>\n",
       "      <td>0.198925</td>\n",
       "      <td>0.212395</td>\n",
       "      <td>0.214981</td>\n",
       "      <td>0.220559</td>\n",
       "      <td>0.177087</td>\n",
       "      <td>0.218110</td>\n",
       "    </tr>\n",
       "    <tr>\n",
       "      <th>2</th>\n",
       "      <td>0.068848</td>\n",
       "      <td>0.101572</td>\n",
       "      <td>0.115450</td>\n",
       "      <td>0.157630</td>\n",
       "      <td>0.228315</td>\n",
       "      <td>0.248452</td>\n",
       "      <td>0.243962</td>\n",
       "      <td>0.211443</td>\n",
       "      <td>0.163889</td>\n",
       "      <td>0.254711</td>\n",
       "    </tr>\n",
       "    <tr>\n",
       "      <th>3</th>\n",
       "      <td>0.065719</td>\n",
       "      <td>0.090346</td>\n",
       "      <td>0.104837</td>\n",
       "      <td>0.139533</td>\n",
       "      <td>0.205184</td>\n",
       "      <td>0.222736</td>\n",
       "      <td>0.203483</td>\n",
       "      <td>0.192462</td>\n",
       "      <td>0.140826</td>\n",
       "      <td>0.231240</td>\n",
       "    </tr>\n",
       "    <tr>\n",
       "      <th>4</th>\n",
       "      <td>0.065175</td>\n",
       "      <td>0.095245</td>\n",
       "      <td>0.115858</td>\n",
       "      <td>0.152459</td>\n",
       "      <td>0.209470</td>\n",
       "      <td>0.223961</td>\n",
       "      <td>0.221648</td>\n",
       "      <td>0.222328</td>\n",
       "      <td>0.166474</td>\n",
       "      <td>0.236070</td>\n",
       "    </tr>\n",
       "  </tbody>\n",
       "</table>\n",
       "</div>"
      ],
      "text/plain": [
       "         02        03        04        05        06        07        08  \\\n",
       "0  0.068236  0.095857  0.111844  0.145928  0.195592  0.210967  0.216886   \n",
       "1  0.077284  0.102116  0.126811  0.156541  0.198925  0.212395  0.214981   \n",
       "2  0.068848  0.101572  0.115450  0.157630  0.228315  0.248452  0.243962   \n",
       "3  0.065719  0.090346  0.104837  0.139533  0.205184  0.222736  0.203483   \n",
       "4  0.065175  0.095245  0.115858  0.152459  0.209470  0.223961  0.221648   \n",
       "\n",
       "         11        12        8A  \n",
       "0  0.196000  0.147969  0.220831  \n",
       "1  0.220559  0.177087  0.218110  \n",
       "2  0.211443  0.163889  0.254711  \n",
       "3  0.192462  0.140826  0.231240  \n",
       "4  0.222328  0.166474  0.236070  "
      ]
     },
     "execution_count": 6,
     "metadata": {},
     "output_type": "execute_result"
    }
   ],
   "source": [
    "str_array = ['02','03','04','05','06','07','08','11','12','8A']\n",
    "df=pd.DataFrame(X,columns=[strval  for strval in str_array])\n",
    "df.head()"
   ]
  },
  {
   "cell_type": "code",
   "execution_count": 7,
   "metadata": {},
   "outputs": [
    {
     "name": "stdout",
     "output_type": "stream",
     "text": [
      "Plot the random distributions of input features\n"
     ]
    }
   ],
   "source": [
    "print(\"Plot the random distributions of input features\")"
   ]
  },
  {
   "cell_type": "code",
   "execution_count": 8,
   "metadata": {},
   "outputs": [
    {
     "data": {
      "image/png": "[encoded data removed]",
      "text/plain": [
       "<Figure size 576x432 with 1 Axes>"
      ]
     },
     "metadata": {
      "needs_background": "light"
     },
     "output_type": "display_data"
    },
    {
     "data": {
      "image/png": "[encoded data removed]",
      "text/plain": [
       "<Figure size 576x432 with 1 Axes>"
      ]
     },
     "metadata": {
      "needs_background": "light"
     },
     "output_type": "display_data"
    },
    {
     "data": {
      "image/png": "[encoded data removed]",
      "text/plain": [
       "<Figure size 576x432 with 1 Axes>"
      ]
     },
     "metadata": {
      "needs_background": "light"
     },
     "output_type": "display_data"
    },
    {
     "data": {
      "image/png": "[encoded data removed]",
      "text/plain": [
       "<Figure size 576x432 with 1 Axes>"
      ]
     },
     "metadata": {
      "needs_background": "light"
     },
     "output_type": "display_data"
    },
    {
     "data": {
      "image/png": "[encoded data removed]",
      "text/plain": [
       "<Figure size 576x432 with 1 Axes>"
      ]
     },
     "metadata": {
      "needs_background": "light"
     },
     "output_type": "display_data"
    },
    {
     "data": {
      "image/png": "[encoded data removed]",
      "text/plain": [
       "<Figure size 576x432 with 1 Axes>"
      ]
     },
     "metadata": {
      "needs_background": "light"
     },
     "output_type": "display_data"
    },
    {
     "data": {
      "image/png": "[encoded data removed]",
      "text/plain": [
       "<Figure size 576x432 with 1 Axes>"
      ]
     },
     "metadata": {
      "needs_background": "light"
     },
     "output_type": "display_data"
    },
    {
     "data": {
      "image/png": "[encoded data removed]",
      "text/plain": [
       "<Figure size 576x432 with 1 Axes>"
      ]
     },
     "metadata": {
      "needs_background": "light"
     },
     "output_type": "display_data"
    },
    {
     "data": {
      "image/png": "[encoded data removed]",
      "text/plain": [
       "<Figure size 576x432 with 1 Axes>"
      ]
     },
     "metadata": {
      "needs_background": "light"
     },
     "output_type": "display_data"
    },
    {
     "data": {
      "image/png": "[encoded data removed]",
      "text/plain": [
       "<Figure size 576x432 with 1 Axes>"
      ]
     },
     "metadata": {
      "needs_background": "light"
     },
     "output_type": "display_data"
    }
   ],
   "source": [
    "for i in df.columns:\n",
    "    df.hist(i,bins=5,xlabelsize=15,ylabelsize=15,figsize=(8,6))"
   ]
  },
  {
   "cell_type": "markdown",
   "metadata": {},
   "source": [
    "### Create polynomial features"
   ]
  },
  {
   "cell_type": "code",
   "execution_count": 9,
   "metadata": {},
   "outputs": [],
   "source": [
    "from sklearn.preprocessing import PolynomialFeatures"
   ]
  },
  {
   "cell_type": "code",
   "execution_count": 10,
   "metadata": {},
   "outputs": [],
   "source": [
    "poly = PolynomialFeatures(2,include_bias=False)"
   ]
  },
  {
   "cell_type": "code",
   "execution_count": 11,
   "metadata": {},
   "outputs": [
    {
     "name": "stdout",
     "output_type": "stream",
     "text": [
      "['02' '03' '04' '05' '06' '07' '08' '11' '12' '8A' '02^2' '02 03' '02 04'\n",
      " '02 05' '02 06' '02 07' '02 08' '02 11' '02 12' '02 8A' '03^2' '03 04'\n",
      " '03 05' '03 06' '03 07' '03 08' '03 11' '03 12' '03 8A' '04^2' '04 05'\n",
      " '04 06' '04 07' '04 08' '04 11' '04 12' '04 8A' '05^2' '05 06' '05 07'\n",
      " '05 08' '05 11' '05 12' '05 8A' '06^2' '06 07' '06 08' '06 11' '06 12'\n",
      " '06 8A' '07^2' '07 08' '07 11' '07 12' '07 8A' '08^2' '08 11' '08 12'\n",
      " '08 8A' '11^2' '11 12' '11 8A' '12^2' '12 8A' '8A^2']\n",
      "65\n"
     ]
    }
   ],
   "source": [
    "X_poly = poly.fit_transform(X)\n",
    "str_array = ['02','03','04','05','06','07','08','11','12','8A']\n",
    "X_poly_feature_name = poly.get_feature_names_out([strval  for strval in str_array])\n",
    "print(X_poly_feature_name)\n",
    "print(len(X_poly_feature_name))"
   ]
  },
  {
   "cell_type": "code",
   "execution_count": 12,
   "metadata": {},
   "outputs": [
    {
     "data": {
      "text/html": [
       "<div>\n",
       "<style scoped>\n",
       "    .dataframe tbody tr th:only-of-type {\n",
       "        vertical-align: middle;\n",
       "    }\n",
       "\n",
       "    .dataframe tbody tr th {\n",
       "        vertical-align: top;\n",
       "    }\n",
       "\n",
       "    .dataframe thead th {\n",
       "        text-align: right;\n",
       "    }\n",
       "</style>\n",
       "<table border=\"1\" class=\"dataframe\">\n",
       "  <thead>\n",
       "    <tr style=\"text-align: right;\">\n",
       "      <th></th>\n",
       "      <th>02</th>\n",
       "      <th>03</th>\n",
       "      <th>04</th>\n",
       "      <th>05</th>\n",
       "      <th>06</th>\n",
       "      <th>07</th>\n",
       "      <th>08</th>\n",
       "      <th>11</th>\n",
       "      <th>12</th>\n",
       "      <th>8A</th>\n",
       "      <th>...</th>\n",
       "      <th>08^2</th>\n",
       "      <th>08 11</th>\n",
       "      <th>08 12</th>\n",
       "      <th>08 8A</th>\n",
       "      <th>11^2</th>\n",
       "      <th>11 12</th>\n",
       "      <th>11 8A</th>\n",
       "      <th>12^2</th>\n",
       "      <th>12 8A</th>\n",
       "      <th>8A^2</th>\n",
       "    </tr>\n",
       "  </thead>\n",
       "  <tbody>\n",
       "    <tr>\n",
       "      <th>0</th>\n",
       "      <td>0.068236</td>\n",
       "      <td>0.095857</td>\n",
       "      <td>0.111844</td>\n",
       "      <td>0.145928</td>\n",
       "      <td>0.195592</td>\n",
       "      <td>0.210967</td>\n",
       "      <td>0.216886</td>\n",
       "      <td>0.196000</td>\n",
       "      <td>0.147969</td>\n",
       "      <td>0.220831</td>\n",
       "      <td>...</td>\n",
       "      <td>0.047039</td>\n",
       "      <td>0.042509</td>\n",
       "      <td>0.032092</td>\n",
       "      <td>0.047895</td>\n",
       "      <td>0.038416</td>\n",
       "      <td>0.029002</td>\n",
       "      <td>0.043283</td>\n",
       "      <td>0.021895</td>\n",
       "      <td>0.032676</td>\n",
       "      <td>0.048766</td>\n",
       "    </tr>\n",
       "    <tr>\n",
       "      <th>1</th>\n",
       "      <td>0.077284</td>\n",
       "      <td>0.102116</td>\n",
       "      <td>0.126811</td>\n",
       "      <td>0.156541</td>\n",
       "      <td>0.198925</td>\n",
       "      <td>0.212395</td>\n",
       "      <td>0.214981</td>\n",
       "      <td>0.220559</td>\n",
       "      <td>0.177087</td>\n",
       "      <td>0.218110</td>\n",
       "      <td>...</td>\n",
       "      <td>0.046217</td>\n",
       "      <td>0.047416</td>\n",
       "      <td>0.038070</td>\n",
       "      <td>0.046889</td>\n",
       "      <td>0.048646</td>\n",
       "      <td>0.039058</td>\n",
       "      <td>0.048106</td>\n",
       "      <td>0.031360</td>\n",
       "      <td>0.038624</td>\n",
       "      <td>0.047572</td>\n",
       "    </tr>\n",
       "    <tr>\n",
       "      <th>2</th>\n",
       "      <td>0.068848</td>\n",
       "      <td>0.101572</td>\n",
       "      <td>0.115450</td>\n",
       "      <td>0.157630</td>\n",
       "      <td>0.228315</td>\n",
       "      <td>0.248452</td>\n",
       "      <td>0.243962</td>\n",
       "      <td>0.211443</td>\n",
       "      <td>0.163889</td>\n",
       "      <td>0.254711</td>\n",
       "      <td>...</td>\n",
       "      <td>0.059518</td>\n",
       "      <td>0.051584</td>\n",
       "      <td>0.039983</td>\n",
       "      <td>0.062140</td>\n",
       "      <td>0.044708</td>\n",
       "      <td>0.034653</td>\n",
       "      <td>0.053857</td>\n",
       "      <td>0.026860</td>\n",
       "      <td>0.041744</td>\n",
       "      <td>0.064878</td>\n",
       "    </tr>\n",
       "    <tr>\n",
       "      <th>3</th>\n",
       "      <td>0.065719</td>\n",
       "      <td>0.090346</td>\n",
       "      <td>0.104837</td>\n",
       "      <td>0.139533</td>\n",
       "      <td>0.205184</td>\n",
       "      <td>0.222736</td>\n",
       "      <td>0.203483</td>\n",
       "      <td>0.192462</td>\n",
       "      <td>0.140826</td>\n",
       "      <td>0.231240</td>\n",
       "      <td>...</td>\n",
       "      <td>0.041405</td>\n",
       "      <td>0.039163</td>\n",
       "      <td>0.028656</td>\n",
       "      <td>0.047054</td>\n",
       "      <td>0.037042</td>\n",
       "      <td>0.027104</td>\n",
       "      <td>0.044505</td>\n",
       "      <td>0.019832</td>\n",
       "      <td>0.032565</td>\n",
       "      <td>0.053472</td>\n",
       "    </tr>\n",
       "    <tr>\n",
       "      <th>4</th>\n",
       "      <td>0.065175</td>\n",
       "      <td>0.095245</td>\n",
       "      <td>0.115858</td>\n",
       "      <td>0.152459</td>\n",
       "      <td>0.209470</td>\n",
       "      <td>0.223961</td>\n",
       "      <td>0.221648</td>\n",
       "      <td>0.222328</td>\n",
       "      <td>0.166474</td>\n",
       "      <td>0.236070</td>\n",
       "      <td>...</td>\n",
       "      <td>0.049128</td>\n",
       "      <td>0.049279</td>\n",
       "      <td>0.036899</td>\n",
       "      <td>0.052324</td>\n",
       "      <td>0.049430</td>\n",
       "      <td>0.037012</td>\n",
       "      <td>0.052485</td>\n",
       "      <td>0.027714</td>\n",
       "      <td>0.039300</td>\n",
       "      <td>0.055729</td>\n",
       "    </tr>\n",
       "  </tbody>\n",
       "</table>\n",
       "<p>5 rows × 65 columns</p>\n",
       "</div>"
      ],
      "text/plain": [
       "         02        03        04        05        06        07        08  \\\n",
       "0  0.068236  0.095857  0.111844  0.145928  0.195592  0.210967  0.216886   \n",
       "1  0.077284  0.102116  0.126811  0.156541  0.198925  0.212395  0.214981   \n",
       "2  0.068848  0.101572  0.115450  0.157630  0.228315  0.248452  0.243962   \n",
       "3  0.065719  0.090346  0.104837  0.139533  0.205184  0.222736  0.203483   \n",
       "4  0.065175  0.095245  0.115858  0.152459  0.209470  0.223961  0.221648   \n",
       "\n",
       "         11        12        8A  ...      08^2     08 11     08 12     08 8A  \\\n",
       "0  0.196000  0.147969  0.220831  ...  0.047039  0.042509  0.032092  0.047895   \n",
       "1  0.220559  0.177087  0.218110  ...  0.046217  0.047416  0.038070  0.046889   \n",
       "2  0.211443  0.163889  0.254711  ...  0.059518  0.051584  0.039983  0.062140   \n",
       "3  0.192462  0.140826  0.231240  ...  0.041405  0.039163  0.028656  0.047054   \n",
       "4  0.222328  0.166474  0.236070  ...  0.049128  0.049279  0.036899  0.052324   \n",
       "\n",
       "       11^2     11 12     11 8A      12^2     12 8A      8A^2  \n",
       "0  0.038416  0.029002  0.043283  0.021895  0.032676  0.048766  \n",
       "1  0.048646  0.039058  0.048106  0.031360  0.038624  0.047572  \n",
       "2  0.044708  0.034653  0.053857  0.026860  0.041744  0.064878  \n",
       "3  0.037042  0.027104  0.044505  0.019832  0.032565  0.053472  \n",
       "4  0.049430  0.037012  0.052485  0.027714  0.039300  0.055729  \n",
       "\n",
       "[5 rows x 65 columns]"
      ]
     },
     "execution_count": 12,
     "metadata": {},
     "output_type": "execute_result"
    }
   ],
   "source": [
    "df_poly = pd.DataFrame(X_poly, columns=X_poly_feature_name)\n",
    "df_poly.head()"
   ]
  },
  {
   "cell_type": "code",
   "execution_count": 13,
   "metadata": {},
   "outputs": [
    {
     "data": {
      "text/html": [
       "<div>\n",
       "<style scoped>\n",
       "    .dataframe tbody tr th:only-of-type {\n",
       "        vertical-align: middle;\n",
       "    }\n",
       "\n",
       "    .dataframe tbody tr th {\n",
       "        vertical-align: top;\n",
       "    }\n",
       "\n",
       "    .dataframe thead th {\n",
       "        text-align: right;\n",
       "    }\n",
       "</style>\n",
       "<table border=\"1\" class=\"dataframe\">\n",
       "  <thead>\n",
       "    <tr style=\"text-align: right;\">\n",
       "      <th></th>\n",
       "      <th>02</th>\n",
       "      <th>03</th>\n",
       "      <th>04</th>\n",
       "      <th>05</th>\n",
       "      <th>06</th>\n",
       "      <th>07</th>\n",
       "      <th>08</th>\n",
       "      <th>11</th>\n",
       "      <th>12</th>\n",
       "      <th>8A</th>\n",
       "      <th>...</th>\n",
       "      <th>08 11</th>\n",
       "      <th>08 12</th>\n",
       "      <th>08 8A</th>\n",
       "      <th>11^2</th>\n",
       "      <th>11 12</th>\n",
       "      <th>11 8A</th>\n",
       "      <th>12^2</th>\n",
       "      <th>12 8A</th>\n",
       "      <th>8A^2</th>\n",
       "      <th>y</th>\n",
       "    </tr>\n",
       "  </thead>\n",
       "  <tbody>\n",
       "    <tr>\n",
       "      <th>0</th>\n",
       "      <td>0.068236</td>\n",
       "      <td>0.095857</td>\n",
       "      <td>0.111844</td>\n",
       "      <td>0.145928</td>\n",
       "      <td>0.195592</td>\n",
       "      <td>0.210967</td>\n",
       "      <td>0.216886</td>\n",
       "      <td>0.196000</td>\n",
       "      <td>0.147969</td>\n",
       "      <td>0.220831</td>\n",
       "      <td>...</td>\n",
       "      <td>0.042509</td>\n",
       "      <td>0.032092</td>\n",
       "      <td>0.047895</td>\n",
       "      <td>0.038416</td>\n",
       "      <td>0.029002</td>\n",
       "      <td>0.043283</td>\n",
       "      <td>0.021895</td>\n",
       "      <td>0.032676</td>\n",
       "      <td>0.048766</td>\n",
       "      <td>0.175745</td>\n",
       "    </tr>\n",
       "    <tr>\n",
       "      <th>1</th>\n",
       "      <td>0.077284</td>\n",
       "      <td>0.102116</td>\n",
       "      <td>0.126811</td>\n",
       "      <td>0.156541</td>\n",
       "      <td>0.198925</td>\n",
       "      <td>0.212395</td>\n",
       "      <td>0.214981</td>\n",
       "      <td>0.220559</td>\n",
       "      <td>0.177087</td>\n",
       "      <td>0.218110</td>\n",
       "      <td>...</td>\n",
       "      <td>0.047416</td>\n",
       "      <td>0.038070</td>\n",
       "      <td>0.046889</td>\n",
       "      <td>0.048646</td>\n",
       "      <td>0.039058</td>\n",
       "      <td>0.048106</td>\n",
       "      <td>0.031360</td>\n",
       "      <td>0.038624</td>\n",
       "      <td>0.047572</td>\n",
       "      <td>0.192400</td>\n",
       "    </tr>\n",
       "    <tr>\n",
       "      <th>2</th>\n",
       "      <td>0.068848</td>\n",
       "      <td>0.101572</td>\n",
       "      <td>0.115450</td>\n",
       "      <td>0.157630</td>\n",
       "      <td>0.228315</td>\n",
       "      <td>0.248452</td>\n",
       "      <td>0.243962</td>\n",
       "      <td>0.211443</td>\n",
       "      <td>0.163889</td>\n",
       "      <td>0.254711</td>\n",
       "      <td>...</td>\n",
       "      <td>0.051584</td>\n",
       "      <td>0.039983</td>\n",
       "      <td>0.062140</td>\n",
       "      <td>0.044708</td>\n",
       "      <td>0.034653</td>\n",
       "      <td>0.053857</td>\n",
       "      <td>0.026860</td>\n",
       "      <td>0.041744</td>\n",
       "      <td>0.064878</td>\n",
       "      <td>0.144344</td>\n",
       "    </tr>\n",
       "    <tr>\n",
       "      <th>3</th>\n",
       "      <td>0.065719</td>\n",
       "      <td>0.090346</td>\n",
       "      <td>0.104837</td>\n",
       "      <td>0.139533</td>\n",
       "      <td>0.205184</td>\n",
       "      <td>0.222736</td>\n",
       "      <td>0.203483</td>\n",
       "      <td>0.192462</td>\n",
       "      <td>0.140826</td>\n",
       "      <td>0.231240</td>\n",
       "      <td>...</td>\n",
       "      <td>0.039163</td>\n",
       "      <td>0.028656</td>\n",
       "      <td>0.047054</td>\n",
       "      <td>0.037042</td>\n",
       "      <td>0.027104</td>\n",
       "      <td>0.044505</td>\n",
       "      <td>0.019832</td>\n",
       "      <td>0.032565</td>\n",
       "      <td>0.053472</td>\n",
       "      <td>0.178272</td>\n",
       "    </tr>\n",
       "    <tr>\n",
       "      <th>4</th>\n",
       "      <td>0.065175</td>\n",
       "      <td>0.095245</td>\n",
       "      <td>0.115858</td>\n",
       "      <td>0.152459</td>\n",
       "      <td>0.209470</td>\n",
       "      <td>0.223961</td>\n",
       "      <td>0.221648</td>\n",
       "      <td>0.222328</td>\n",
       "      <td>0.166474</td>\n",
       "      <td>0.236070</td>\n",
       "      <td>...</td>\n",
       "      <td>0.049279</td>\n",
       "      <td>0.036899</td>\n",
       "      <td>0.052324</td>\n",
       "      <td>0.049430</td>\n",
       "      <td>0.037012</td>\n",
       "      <td>0.052485</td>\n",
       "      <td>0.027714</td>\n",
       "      <td>0.039300</td>\n",
       "      <td>0.055729</td>\n",
       "      <td>0.083634</td>\n",
       "    </tr>\n",
       "  </tbody>\n",
       "</table>\n",
       "<p>5 rows × 66 columns</p>\n",
       "</div>"
      ],
      "text/plain": [
       "         02        03        04        05        06        07        08  \\\n",
       "0  0.068236  0.095857  0.111844  0.145928  0.195592  0.210967  0.216886   \n",
       "1  0.077284  0.102116  0.126811  0.156541  0.198925  0.212395  0.214981   \n",
       "2  0.068848  0.101572  0.115450  0.157630  0.228315  0.248452  0.243962   \n",
       "3  0.065719  0.090346  0.104837  0.139533  0.205184  0.222736  0.203483   \n",
       "4  0.065175  0.095245  0.115858  0.152459  0.209470  0.223961  0.221648   \n",
       "\n",
       "         11        12        8A  ...     08 11     08 12     08 8A      11^2  \\\n",
       "0  0.196000  0.147969  0.220831  ...  0.042509  0.032092  0.047895  0.038416   \n",
       "1  0.220559  0.177087  0.218110  ...  0.047416  0.038070  0.046889  0.048646   \n",
       "2  0.211443  0.163889  0.254711  ...  0.051584  0.039983  0.062140  0.044708   \n",
       "3  0.192462  0.140826  0.231240  ...  0.039163  0.028656  0.047054  0.037042   \n",
       "4  0.222328  0.166474  0.236070  ...  0.049279  0.036899  0.052324  0.049430   \n",
       "\n",
       "      11 12     11 8A      12^2     12 8A      8A^2         y  \n",
       "0  0.029002  0.043283  0.021895  0.032676  0.048766  0.175745  \n",
       "1  0.039058  0.048106  0.031360  0.038624  0.047572  0.192400  \n",
       "2  0.034653  0.053857  0.026860  0.041744  0.064878  0.144344  \n",
       "3  0.027104  0.044505  0.019832  0.032565  0.053472  0.178272  \n",
       "4  0.037012  0.052485  0.027714  0.039300  0.055729  0.083634  \n",
       "\n",
       "[5 rows x 66 columns]"
      ]
     },
     "execution_count": 13,
     "metadata": {},
     "output_type": "execute_result"
    }
   ],
   "source": [
    "df_poly['y']=y\n",
    "df_poly.head()"
   ]
  },
  {
   "cell_type": "code",
   "execution_count": 14,
   "metadata": {
    "scrolled": true
   },
   "outputs": [
    {
     "data": {
      "text/plain": [
       "(1051, 66)"
      ]
     },
     "execution_count": 14,
     "metadata": {},
     "output_type": "execute_result"
    }
   ],
   "source": [
    "import numpy as np\n",
    "df_poly.shape"
   ]
  },
  {
   "cell_type": "code",
   "execution_count": 15,
   "metadata": {},
   "outputs": [],
   "source": [
    "X_train=df_poly.drop('y',axis=1)\n",
    "y_train=df_poly['y']"
   ]
  },
  {
   "cell_type": "code",
   "execution_count": 16,
   "metadata": {},
   "outputs": [
    {
     "data": {
      "text/plain": [
       "0       0.175745\n",
       "1       0.192400\n",
       "2       0.144344\n",
       "3       0.178272\n",
       "4       0.083634\n",
       "          ...   \n",
       "1046    0.134023\n",
       "1047    0.168973\n",
       "1048    0.236185\n",
       "1049    0.212401\n",
       "1050    0.236185\n",
       "Name: y, Length: 1051, dtype: float64"
      ]
     },
     "execution_count": 16,
     "metadata": {},
     "output_type": "execute_result"
    }
   ],
   "source": [
    "y_train"
   ]
  },
  {
   "cell_type": "markdown",
   "metadata": {},
   "source": [
    "### Metamodel (Optislang style :) - polynomial model with cross-validation and LASSO regularization\n",
    "** This is an advanced machine learning method which prevents over-fitting by penalizing high-valued coefficients i.e. keep them bounded **"
   ]
  },
  {
   "cell_type": "code",
   "execution_count": 17,
   "metadata": {},
   "outputs": [],
   "source": [
    "from sklearn.linear_model import LassoCV"
   ]
  },
  {
   "cell_type": "code",
   "execution_count": 18,
   "metadata": {},
   "outputs": [],
   "source": [
    "model1 = LassoCV(cv=10,verbose=0,eps=0.001, n_jobs=3,n_alphas=100, tol=0.0001,max_iter=500000)"
   ]
  },
  {
   "cell_type": "code",
   "execution_count": 19,
   "metadata": {},
   "outputs": [
    {
     "data": {
      "text/html": [
       "<style>#sk-container-id-1 {color: black;background-color: white;}#sk-container-id-1 pre{padding: 0;}#sk-container-id-1 div.sk-toggleable {background-color: white;}#sk-container-id-1 label.sk-toggleable__label {cursor: pointer;display: block;width: 100%;margin-bottom: 0;padding: 0.3em;box-sizing: border-box;text-align: center;}#sk-container-id-1 label.sk-toggleable__label-arrow:before {content: \"▸\";float: left;margin-right: 0.25em;color: #696969;}#sk-container-id-1 label.sk-toggleable__label-arrow:hover:before {color: black;}#sk-container-id-1 div.sk-estimator:hover label.sk-toggleable__label-arrow:before {color: black;}#sk-container-id-1 div.sk-toggleable__content {max-height: 0;max-width: 0;overflow: hidden;text-align: left;background-color: #f0f8ff;}#sk-container-id-1 div.sk-toggleable__content pre {margin: 0.2em;color: black;border-radius: 0.25em;background-color: #f0f8ff;}#sk-container-id-1 input.sk-toggleable__control:checked~div.sk-toggleable__content {max-height: 200px;max-width: 100%;overflow: auto;}#sk-container-id-1 input.sk-toggleable__control:checked~label.sk-toggleable__label-arrow:before {content: \"▾\";}#sk-container-id-1 div.sk-estimator input.sk-toggleable__control:checked~label.sk-toggleable__label {background-color: #d4ebff;}#sk-container-id-1 div.sk-label input.sk-toggleable__control:checked~label.sk-toggleable__label {background-color: #d4ebff;}#sk-container-id-1 input.sk-hidden--visually {border: 0;clip: rect(1px 1px 1px 1px);clip: rect(1px, 1px, 1px, 1px);height: 1px;margin: -1px;overflow: hidden;padding: 0;position: absolute;width: 1px;}#sk-container-id-1 div.sk-estimator {font-family: monospace;background-color: #f0f8ff;border: 1px dotted black;border-radius: 0.25em;box-sizing: border-box;margin-bottom: 0.5em;}#sk-container-id-1 div.sk-estimator:hover {background-color: #d4ebff;}#sk-container-id-1 div.sk-parallel-item::after {content: \"\";width: 100%;border-bottom: 1px solid gray;flex-grow: 1;}#sk-container-id-1 div.sk-label:hover label.sk-toggleable__label {background-color: #d4ebff;}#sk-container-id-1 div.sk-serial::before {content: \"\";position: absolute;border-left: 1px solid gray;box-sizing: border-box;top: 0;bottom: 0;left: 50%;z-index: 0;}#sk-container-id-1 div.sk-serial {display: flex;flex-direction: column;align-items: center;background-color: white;padding-right: 0.2em;padding-left: 0.2em;position: relative;}#sk-container-id-1 div.sk-item {position: relative;z-index: 1;}#sk-container-id-1 div.sk-parallel {display: flex;align-items: stretch;justify-content: center;background-color: white;position: relative;}#sk-container-id-1 div.sk-item::before, #sk-container-id-1 div.sk-parallel-item::before {content: \"\";position: absolute;border-left: 1px solid gray;box-sizing: border-box;top: 0;bottom: 0;left: 50%;z-index: -1;}#sk-container-id-1 div.sk-parallel-item {display: flex;flex-direction: column;z-index: 1;position: relative;background-color: white;}#sk-container-id-1 div.sk-parallel-item:first-child::after {align-self: flex-end;width: 50%;}#sk-container-id-1 div.sk-parallel-item:last-child::after {align-self: flex-start;width: 50%;}#sk-container-id-1 div.sk-parallel-item:only-child::after {width: 0;}#sk-container-id-1 div.sk-dashed-wrapped {border: 1px dashed gray;margin: 0 0.4em 0.5em 0.4em;box-sizing: border-box;padding-bottom: 0.4em;background-color: white;}#sk-container-id-1 div.sk-label label {font-family: monospace;font-weight: bold;display: inline-block;line-height: 1.2em;}#sk-container-id-1 div.sk-label-container {text-align: center;}#sk-container-id-1 div.sk-container {/* jupyter's `normalize.less` sets `[hidden] { display: none; }` but bootstrap.min.css set `[hidden] { display: none !important; }` so we also need the `!important` here to be able to override the default hidden behavior on the sphinx rendered scikit-learn.org. See: https://github.com/scikit-learn/scikit-learn/issues/21755 */display: inline-block !important;position: relative;}#sk-container-id-1 div.sk-text-repr-fallback {display: none;}</style><div id=\"sk-container-id-1\" class=\"sk-top-container\"><div class=\"sk-text-repr-fallback\"><pre>LassoCV(cv=10, max_iter=500000, n_jobs=3, verbose=0)</pre><b>In a Jupyter environment, please rerun this cell to show the HTML representation or trust the notebook. <br />On GitHub, the HTML representation is unable to render, please try loading this page with nbviewer.org.</b></div><div class=\"sk-container\" hidden><div class=\"sk-item\"><div class=\"sk-estimator sk-toggleable\"><input class=\"sk-toggleable__control sk-hidden--visually\" id=\"sk-estimator-id-1\" type=\"checkbox\" checked><label for=\"sk-estimator-id-1\" class=\"sk-toggleable__label sk-toggleable__label-arrow\">LassoCV</label><div class=\"sk-toggleable__content\"><pre>LassoCV(cv=10, max_iter=500000, n_jobs=3, verbose=0)</pre></div></div></div></div></div>"
      ],
      "text/plain": [
       "LassoCV(cv=10, max_iter=500000, n_jobs=3, verbose=0)"
      ]
     },
     "execution_count": 19,
     "metadata": {},
     "output_type": "execute_result"
    }
   ],
   "source": [
    "model1.fit(X_train,y_train)"
   ]
  },
  {
   "cell_type": "code",
   "execution_count": 20,
   "metadata": {},
   "outputs": [],
   "source": [
    "y_pred1 = np.array(model1.predict(X_train))"
   ]
  },
  {
   "cell_type": "code",
   "execution_count": 21,
   "metadata": {},
   "outputs": [
    {
     "name": "stdout",
     "output_type": "stream",
     "text": [
      "Root-mean-square error of Metamodel: 6.768457333268124\n"
     ]
    }
   ],
   "source": [
    "RMSE_1=np.sqrt(np.sum(np.square(y_pred1-y_train)))\n",
    "print(\"Root-mean-square error of Metamodel:\",RMSE_1)"
   ]
  },
  {
   "cell_type": "code",
   "execution_count": 22,
   "metadata": {},
   "outputs": [
    {
     "data": {
      "text/html": [
       "<div>\n",
       "<style scoped>\n",
       "    .dataframe tbody tr th:only-of-type {\n",
       "        vertical-align: middle;\n",
       "    }\n",
       "\n",
       "    .dataframe tbody tr th {\n",
       "        vertical-align: top;\n",
       "    }\n",
       "\n",
       "    .dataframe thead th {\n",
       "        text-align: right;\n",
       "    }\n",
       "</style>\n",
       "<table border=\"1\" class=\"dataframe\">\n",
       "  <thead>\n",
       "    <tr style=\"text-align: right;\">\n",
       "      <th></th>\n",
       "      <th>Coefficients Metamodel</th>\n",
       "    </tr>\n",
       "  </thead>\n",
       "  <tbody>\n",
       "    <tr>\n",
       "      <th>02</th>\n",
       "      <td>-0.0</td>\n",
       "    </tr>\n",
       "    <tr>\n",
       "      <th>03</th>\n",
       "      <td>-0.0</td>\n",
       "    </tr>\n",
       "    <tr>\n",
       "      <th>04</th>\n",
       "      <td>-0.0</td>\n",
       "    </tr>\n",
       "    <tr>\n",
       "      <th>05</th>\n",
       "      <td>-0.0</td>\n",
       "    </tr>\n",
       "    <tr>\n",
       "      <th>06</th>\n",
       "      <td>-0.0</td>\n",
       "    </tr>\n",
       "    <tr>\n",
       "      <th>...</th>\n",
       "      <td>...</td>\n",
       "    </tr>\n",
       "    <tr>\n",
       "      <th>11 12</th>\n",
       "      <td>-0.0</td>\n",
       "    </tr>\n",
       "    <tr>\n",
       "      <th>11 8A</th>\n",
       "      <td>-0.0</td>\n",
       "    </tr>\n",
       "    <tr>\n",
       "      <th>12^2</th>\n",
       "      <td>-0.0</td>\n",
       "    </tr>\n",
       "    <tr>\n",
       "      <th>12 8A</th>\n",
       "      <td>-0.0</td>\n",
       "    </tr>\n",
       "    <tr>\n",
       "      <th>8A^2</th>\n",
       "      <td>-0.0</td>\n",
       "    </tr>\n",
       "  </tbody>\n",
       "</table>\n",
       "<p>65 rows × 1 columns</p>\n",
       "</div>"
      ],
      "text/plain": [
       "       Coefficients Metamodel\n",
       "02                       -0.0\n",
       "03                       -0.0\n",
       "04                       -0.0\n",
       "05                       -0.0\n",
       "06                       -0.0\n",
       "...                       ...\n",
       "11 12                    -0.0\n",
       "11 8A                    -0.0\n",
       "12^2                     -0.0\n",
       "12 8A                    -0.0\n",
       "8A^2                     -0.0\n",
       "\n",
       "[65 rows x 1 columns]"
      ]
     },
     "execution_count": 22,
     "metadata": {},
     "output_type": "execute_result"
    }
   ],
   "source": [
    "coeff1 = pd.DataFrame(model1.coef_,index=df_poly.drop('y',axis=1).columns, columns=['Coefficients Metamodel'])\n",
    "coeff1"
   ]
  },
  {
   "cell_type": "code",
   "execution_count": 23,
   "metadata": {},
   "outputs": [
    {
     "data": {
      "text/plain": [
       "0.0"
      ]
     },
     "execution_count": 23,
     "metadata": {},
     "output_type": "execute_result"
    }
   ],
   "source": [
    "model1.score(X_train,y_train)"
   ]
  },
  {
   "cell_type": "code",
   "execution_count": 24,
   "metadata": {},
   "outputs": [
    {
     "data": {
      "text/plain": [
       "0.0015479392640383065"
      ]
     },
     "execution_count": 24,
     "metadata": {},
     "output_type": "execute_result"
    }
   ],
   "source": [
    "model1.alpha_"
   ]
  },
  {
   "cell_type": "markdown",
   "metadata": {},
   "source": [
    "### Printing only the non-zero coefficients of the metamodel"
   ]
  },
  {
   "cell_type": "code",
   "execution_count": 25,
   "metadata": {},
   "outputs": [
    {
     "data": {
      "text/html": [
       "<div>\n",
       "<style scoped>\n",
       "    .dataframe tbody tr th:only-of-type {\n",
       "        vertical-align: middle;\n",
       "    }\n",
       "\n",
       "    .dataframe tbody tr th {\n",
       "        vertical-align: top;\n",
       "    }\n",
       "\n",
       "    .dataframe thead th {\n",
       "        text-align: right;\n",
       "    }\n",
       "</style>\n",
       "<table border=\"1\" class=\"dataframe\">\n",
       "  <thead>\n",
       "    <tr style=\"text-align: right;\">\n",
       "      <th></th>\n",
       "      <th>Coefficients Metamodel</th>\n",
       "    </tr>\n",
       "  </thead>\n",
       "  <tbody>\n",
       "  </tbody>\n",
       "</table>\n",
       "</div>"
      ],
      "text/plain": [
       "Empty DataFrame\n",
       "Columns: [Coefficients Metamodel]\n",
       "Index: []"
      ]
     },
     "execution_count": 25,
     "metadata": {},
     "output_type": "execute_result"
    }
   ],
   "source": [
    "coeff1[coeff1['Coefficients Metamodel']!=0]"
   ]
  },
  {
   "cell_type": "code",
   "execution_count": 26,
   "metadata": {},
   "outputs": [
    {
     "data": {
      "text/plain": [
       "[<matplotlib.lines.Line2D at 0x7f24869de5b0>]"
      ]
     },
     "execution_count": 26,
     "metadata": {},
     "output_type": "execute_result"
    },
    {
     "data": {
      "image/png": "[encoded data removed]",
      "text/plain": [
       "<Figure size 864x576 with 1 Axes>"
      ]
     },
     "metadata": {
      "needs_background": "light"
     },
     "output_type": "display_data"
    }
   ],
   "source": [
    "plt.figure(figsize=(12,8))\n",
    "plt.xlabel(\"Predicted value with Metamodel\",fontsize=20)\n",
    "plt.ylabel(\"Actual y-values\",fontsize=20)\n",
    "plt.grid(1)\n",
    "plt.scatter(y_pred1,y_train,edgecolors=(0,0,0),lw=2,s=80)\n",
    "plt.plot(y_pred1,y_pred1, 'k--', lw=2)"
   ]
  },
  {
   "cell_type": "code",
   "execution_count": 27,
   "metadata": {},
   "outputs": [
    {
     "data": {
      "text/plain": [
       "(2.6602460835823822,\n",
       " 5.9602460835823825,\n",
       " 0.0046096087361527215,\n",
       " 0.11291909987364199)"
      ]
     },
     "execution_count": 27,
     "metadata": {},
     "output_type": "execute_result"
    },
    {
     "data": {
      "image/png": "[encoded data removed]",
      "text/plain": [
       "<Figure size 432x288 with 1 Axes>"
      ]
     },
     "metadata": {
      "needs_background": "light"
     },
     "output_type": "display_data"
    }
   ],
   "source": [
    "# Display results\n",
    "m_log_alphas = -np.log10(model1.alphas_)\n",
    "\n",
    "plt.figure()\n",
    "ymin, ymax = 2300, 3800\n",
    "plt.plot(m_log_alphas, model1.mse_path_, ':')\n",
    "plt.plot(m_log_alphas, model1.mse_path_.mean(axis=-1), 'k',\n",
    "         label='Average across the folds', linewidth=2)\n",
    "plt.axvline(-np.log10(model1.alpha_), linestyle='--', color='k',\n",
    "            label='alpha: CV estimate')\n",
    "plt.legend()\n",
    "\n",
    "plt.xlabel('-log(alpha)')\n",
    "plt.ylabel('Mean square error')\n",
    "plt.axis('tight')"
   ]
  },
  {
   "cell_type": "code",
   "execution_count": null,
   "metadata": {},
   "outputs": [],
   "source": []
  }
 ],
 "metadata": {
  "kernelspec": {
   "display_name": "Python 3 (ipykernel)",
   "language": "python",
   "name": "python3"
  },
  "language_info": {
   "codemirror_mode": {
    "name": "ipython",
    "version": 3
   },
   "file_extension": ".py",
   "mimetype": "text/x-python",
   "name": "python",
   "nbconvert_exporter": "python",
   "pygments_lexer": "ipython3",
   "version": "3.8.10"
  }
 },
 "nbformat": 4,
 "nbformat_minor": 4
}
