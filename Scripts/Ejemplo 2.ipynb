{
 "cells": [
  {
   "cell_type": "markdown",
   "id": "80be0c03",
   "metadata": {},
   "source": [
    "# Partes del notebook\n",
    "\n",
    "- Evaluación de clasificadores/regresores\n",
    "- Visualización de resultados"
   ]
  },
  {
   "cell_type": "markdown",
   "id": "b22b5436",
   "metadata": {},
   "source": [
    "## Evaluación de resultados\n",
    "\n",
    "A la hora de evaluar los resultados vamos a tener que elegir una de estas dos estrategias y mantenerla para el resto del trabajo.\n",
    "\n",
    "- División Entrenamiento / Test.\n",
    "    - Creo que la forma apropiada de hacerlo sería hacer la división de entrenamiento / test **antes de cualquier procesamiento a los datos, incluido el procesamiento básico de pivotar** para poner el contenido en carbono como variable dependiente ($y$) y los valores de las bandas como independientes ($X$). De esta forma se podría comparar justamente el efecto de cada tipo de procesamiento, no solamente el efecto de los clasificadores.\n",
    "    \n",
    "- Validación cruzada.\n",
    "    - Se trata de la partición Entrenamiento / Test, pero de forma repetida. Para comparar adecuadamente distintas formas de procesar los datos, siempre deberíamos que trabajar con las mismas particiones de entrenamiento / test. Así que habría que crearlas inicialmente y usarlas el resto de ocasiones.\n",
    "    - La ventaja sería que al repetir el proceso varias veces tendríamos varios valores y podríamos aplicar test estadísticos a los resultados\n",
    "    - Para visualizaciones (ej Gráfico de dispersión), necesitamos hacer validación cruzada para tener predicciones de todos los puntos, no solo de una partición."
   ]
  },
  {
   "cell_type": "code",
   "execution_count": 1,
   "id": "7638550e",
   "metadata": {},
   "outputs": [],
   "source": [
    "import pandas as pd\n",
    "import numpy as np\n"
   ]
  },
  {
   "cell_type": "code",
   "execution_count": 2,
   "id": "d162df52",
   "metadata": {},
   "outputs": [
    {
     "data": {
      "text/html": [
       "<div>\n",
       "<style scoped>\n",
       "    .dataframe tbody tr th:only-of-type {\n",
       "        vertical-align: middle;\n",
       "    }\n",
       "\n",
       "    .dataframe tbody tr th {\n",
       "        vertical-align: top;\n",
       "    }\n",
       "\n",
       "    .dataframe thead th {\n",
       "        text-align: right;\n",
       "    }\n",
       "</style>\n",
       "<table border=\"1\" class=\"dataframe\">\n",
       "  <thead>\n",
       "    <tr style=\"text-align: right;\">\n",
       "      <th></th>\n",
       "      <th>Unnamed: 0</th>\n",
       "      <th>band</th>\n",
       "      <th>long</th>\n",
       "      <th>lat</th>\n",
       "      <th>read</th>\n",
       "      <th>map</th>\n",
       "      <th>map_rescaled</th>\n",
       "      <th>coords</th>\n",
       "    </tr>\n",
       "  </thead>\n",
       "  <tbody>\n",
       "    <tr>\n",
       "      <th>0</th>\n",
       "      <td>0</td>\n",
       "      <td>05</td>\n",
       "      <td>-3.918733</td>\n",
       "      <td>41.730852</td>\n",
       "      <td>0.32699</td>\n",
       "      <td>2110</td>\n",
       "      <td>0.2110</td>\n",
       "      <td>(-3.91873286, 41.73085176)</td>\n",
       "    </tr>\n",
       "    <tr>\n",
       "      <th>1</th>\n",
       "      <td>1</td>\n",
       "      <td>05</td>\n",
       "      <td>-3.918345</td>\n",
       "      <td>41.730139</td>\n",
       "      <td>0.67152</td>\n",
       "      <td>2777</td>\n",
       "      <td>0.2777</td>\n",
       "      <td>(-3.91834506, 41.73013851)</td>\n",
       "    </tr>\n",
       "    <tr>\n",
       "      <th>2</th>\n",
       "      <td>2</td>\n",
       "      <td>05</td>\n",
       "      <td>-3.917347</td>\n",
       "      <td>41.730038</td>\n",
       "      <td>0.71113</td>\n",
       "      <td>3109</td>\n",
       "      <td>0.3109</td>\n",
       "      <td>(-3.91734728, 41.7300375)</td>\n",
       "    </tr>\n",
       "    <tr>\n",
       "      <th>3</th>\n",
       "      <td>3</td>\n",
       "      <td>05</td>\n",
       "      <td>-3.913551</td>\n",
       "      <td>41.707185</td>\n",
       "      <td>0.61188</td>\n",
       "      <td>6636</td>\n",
       "      <td>0.6636</td>\n",
       "      <td>(-3.91355125, 41.70718476)</td>\n",
       "    </tr>\n",
       "    <tr>\n",
       "      <th>4</th>\n",
       "      <td>4</td>\n",
       "      <td>05</td>\n",
       "      <td>-3.913384</td>\n",
       "      <td>41.708185</td>\n",
       "      <td>0.61188</td>\n",
       "      <td>5345</td>\n",
       "      <td>0.5345</td>\n",
       "      <td>(-3.9133843, 41.70818502)</td>\n",
       "    </tr>\n",
       "  </tbody>\n",
       "</table>\n",
       "</div>"
      ],
      "text/plain": [
       "   Unnamed: 0 band      long        lat     read   map  map_rescaled  \\\n",
       "0           0   05 -3.918733  41.730852  0.32699  2110        0.2110   \n",
       "1           1   05 -3.918345  41.730139  0.67152  2777        0.2777   \n",
       "2           2   05 -3.917347  41.730038  0.71113  3109        0.3109   \n",
       "3           3   05 -3.913551  41.707185  0.61188  6636        0.6636   \n",
       "4           4   05 -3.913384  41.708185  0.61188  5345        0.5345   \n",
       "\n",
       "                       coords  \n",
       "0  (-3.91873286, 41.73085176)  \n",
       "1  (-3.91834506, 41.73013851)  \n",
       "2   (-3.91734728, 41.7300375)  \n",
       "3  (-3.91355125, 41.70718476)  \n",
       "4   (-3.9133843, 41.70818502)  "
      ]
     },
     "execution_count": 2,
     "metadata": {},
     "output_type": "execute_result"
    }
   ],
   "source": [
    "df = pd.read_csv(\"out1.csv\")\n",
    "\n",
    "# la clave será el par (long/lat)\n",
    "# Me pregunto si debería ser la tripleta (lon/lat/fecha)?\n",
    "df[\"coords\"]=list(zip(df[\"long\"], df[\"lat\"]))\n",
    "\n",
    "df.head()"
   ]
  },
  {
   "cell_type": "code",
   "execution_count": 3,
   "id": "85e36ba2",
   "metadata": {},
   "outputs": [],
   "source": [
    "def procesamiento_basico_pivot(df):\n",
    "    \"\"\"\n",
    "    Función que realiza un procesamiento básico (pivotar caracteristicas).\n",
    "    \n",
    "    Si lo queremos hacer feten, esto no sería una función sino un Transformer\n",
    "    https://sklearn-template.readthedocs.io/en/latest/user_guide.html#transformer\n",
    "    \n",
    "    Devuelve \n",
    "        X: variable independientes\n",
    "        y: variable dependiente\n",
    "    \n",
    "    \"\"\"\n",
    "    X_df = df.pivot_table(index=\"coords\",\n",
    "                   columns=\"band\",\n",
    "                   values = \"map_rescaled\",aggfunc=np.mean)\n",
    "    y_df = df.groupby(\"coords\").mean()[\"read\"].to_frame()\n",
    "    df_nuevo = X_df.join(y_df)\n",
    "    X = df_nuevo.drop(\"read\",axis=1).values\n",
    "    y=df_nuevo[\"read\"].values\n",
    "    return X,y\n"
   ]
  },
  {
   "cell_type": "code",
   "execution_count": 4,
   "id": "cbe925de",
   "metadata": {},
   "outputs": [
    {
     "data": {
      "text/html": [
       "<div>\n",
       "<style scoped>\n",
       "    .dataframe tbody tr th:only-of-type {\n",
       "        vertical-align: middle;\n",
       "    }\n",
       "\n",
       "    .dataframe tbody tr th {\n",
       "        vertical-align: top;\n",
       "    }\n",
       "\n",
       "    .dataframe thead th {\n",
       "        text-align: right;\n",
       "    }\n",
       "</style>\n",
       "<table border=\"1\" class=\"dataframe\">\n",
       "  <thead>\n",
       "    <tr style=\"text-align: right;\">\n",
       "      <th></th>\n",
       "      <th>coords</th>\n",
       "      <th>Test_Fold</th>\n",
       "    </tr>\n",
       "  </thead>\n",
       "  <tbody>\n",
       "    <tr>\n",
       "      <th>0</th>\n",
       "      <td>(-3.91873286, 41.73085176)</td>\n",
       "      <td>5</td>\n",
       "    </tr>\n",
       "    <tr>\n",
       "      <th>1</th>\n",
       "      <td>(-3.91834506, 41.73013851)</td>\n",
       "      <td>0</td>\n",
       "    </tr>\n",
       "    <tr>\n",
       "      <th>2</th>\n",
       "      <td>(-3.91734728, 41.7300375)</td>\n",
       "      <td>1</td>\n",
       "    </tr>\n",
       "    <tr>\n",
       "      <th>3</th>\n",
       "      <td>(-3.91355125, 41.70718476)</td>\n",
       "      <td>5</td>\n",
       "    </tr>\n",
       "    <tr>\n",
       "      <th>4</th>\n",
       "      <td>(-3.9133843, 41.70818502)</td>\n",
       "      <td>6</td>\n",
       "    </tr>\n",
       "  </tbody>\n",
       "</table>\n",
       "</div>"
      ],
      "text/plain": [
       "                       coords  Test_Fold\n",
       "0  (-3.91873286, 41.73085176)          5\n",
       "1  (-3.91834506, 41.73013851)          0\n",
       "2   (-3.91734728, 41.7300375)          1\n",
       "3  (-3.91355125, 41.70718476)          5\n",
       "4   (-3.9133843, 41.70818502)          6"
      ]
     },
     "execution_count": 4,
     "metadata": {},
     "output_type": "execute_result"
    }
   ],
   "source": [
    "import numpy as np\n",
    "\n",
    "from sklearn.model_selection import KFold\n",
    "\n",
    "\n",
    "def define_particiones(n_folds, df):\n",
    "    kfold_partitioner = KFold(n_splits=n_folds, shuffle=True, random_state=0)\n",
    "    # habría que ver si queremos barajar los datos antes de dividir\n",
    "    #kfold_partitioner = KFold(n_splits=n_folds, shuffle=False)\n",
    "    \n",
    "    # me quedo con las coordenadas únicas, las claves de mi dataset\n",
    "    coordenadas = df[[\"coords\"]].drop_duplicates()\n",
    "    test_folds = np.array([-1]*len(coordenadas))\n",
    "    \n",
    "    # uso las claves para definir las particiones\n",
    "    # cada clave (coords) solo estará en una partición de test y n_folds-1 particiones de train\n",
    "    for i, (train_index, test_index) in enumerate(kfold_partitioner.split(coordenadas)):\n",
    "        test_folds[test_index]=i\n",
    "        \n",
    "    \n",
    "    coordenadas[\"Test_Fold\"]=test_folds\n",
    "    return coordenadas\n",
    "\n",
    "\n",
    "df_tf = define_particiones(10,df)\n",
    "df_tf.head()"
   ]
  },
  {
   "cell_type": "code",
   "execution_count": 5,
   "id": "87f67eaf",
   "metadata": {},
   "outputs": [],
   "source": [
    "def particiona_datos(df_tf,df,fold):\n",
    "    '''\n",
    "    df_tf Es el DataFrame que contiene los test fold de cada coordenada\n",
    "    df    Es el DataFrame que contiene el resto de atributos\n",
    "    \n",
    "    Divide el dataset en entrenamiento y test, usa el parámetro fold\n",
    "    '''\n",
    "    df_train = df_tf[~(df_tf[\"Test_Fold\"]==fold)]\n",
    "    df_test = df_tf[(df_tf[\"Test_Fold\"]==fold)]\n",
    "    \n",
    "    df_train = df_train.merge(df, on='coords', how='inner')\n",
    "    df_test = df_test.merge(df, on='coords', how='inner')\n",
    "\n",
    "    \n",
    "    return df_train, df_test\n",
    "\n",
    "\n",
    "\n"
   ]
  },
  {
   "cell_type": "code",
   "execution_count": 7,
   "id": "f9eb7d00",
   "metadata": {},
   "outputs": [
    {
     "data": {
      "text/plain": [
       "dict_keys([('Random Forest', 0), ('Regresión Lineal', 0), ('Random Forest', 1), ('Regresión Lineal', 1), ('Random Forest', 2), ('Regresión Lineal', 2), ('Random Forest', 3), ('Regresión Lineal', 3), ('Random Forest', 4), ('Regresión Lineal', 4), ('Random Forest', 5), ('Regresión Lineal', 5), ('Random Forest', 6), ('Regresión Lineal', 6), ('Random Forest', 7), ('Regresión Lineal', 7), ('Random Forest', 8), ('Regresión Lineal', 8), ('Random Forest', 9), ('Regresión Lineal', 9)])"
      ]
     },
     "execution_count": 7,
     "metadata": {},
     "output_type": "execute_result"
    }
   ],
   "source": [
    "from sklearn.svm import SVR\n",
    "from sklearn import linear_model\n",
    "from sklearn.ensemble import RandomForestRegressor\n",
    "from sklearn.model_selection import GridSearchCV\n",
    "\n",
    "\n",
    "svr_params = {'C':np.logspace(-1,3,20),'gamma': np.linspace(0.1, 0.9, 9),'epsilon': [0.0001] ,'tol':[0.0001]} \n",
    "\n",
    "rf = RandomForestRegressor()\n",
    "lr = linear_model.LinearRegression()\n",
    "svr_rbf = SVR(kernel='rbf')\n",
    "svr_opt = GridSearchCV(svr_rbf,param_grid=svr_params,cv=5,scoring='r2')\n",
    "\n",
    "# solo comento svr_opt para que no tarde tanto\n",
    "metodos = [rf,lr,\n",
    "           #svr_opt\n",
    "          ]\n",
    "nombres = [\"Random Forest\", \"Regresión Lineal\",\n",
    "          # \"SVR op\"\n",
    "          ]\n",
    "\n",
    "\n",
    "def evalua_modelos_xval(df, df_tf, modelos,nombres_modelos,folds):\n",
    "    '''\n",
    "    Esta función hace una validación cruzada propia\n",
    "    Divide los datos folds veces.\n",
    "    Para cada división diferente entrena y predice, guardando las predicciones en un diccionario\n",
    "    Lo hace para cada uno de los modelos indicados\n",
    "    \n",
    "    Devuelve el diccionario\n",
    "    '''\n",
    "    \n",
    "    dict_results = {}\n",
    "    \n",
    "    for i in range(folds):\n",
    "        df_train,df_test = particiona_datos(df_tf,df,i)\n",
    "        \n",
    "        X_train, y_train = procesamiento_basico_pivot(df_train)\n",
    "        X_test, y_test = procesamiento_basico_pivot(df_test)\n",
    "    \n",
    "        for metodo,nombre in zip(metodos,nombres):\n",
    "            y_pred = metodo.fit(X_train,y_train).predict(X_test)\n",
    "            dict_results[(nombre,i)]=(y_test,y_pred)\n",
    "            \n",
    "    return dict_results\n",
    "            \n",
    "    \n",
    "resultados = evalua_modelos_xval(df, df_tf, metodos,nombres,10)\n",
    "resultados.keys()"
   ]
  },
  {
   "cell_type": "markdown",
   "id": "77cb1fca",
   "metadata": {},
   "source": [
    "## Analizar resultados\n",
    "\n",
    "\n",
    "Ahora tenemos en el diccionario `resultados` todas las predicciones, de todos los modelos, para todos los folds.\n",
    "\n",
    "- Podemos analizar los errores para cada fold, para aparte de dar una media del error del modelo, ver si son errores significativamente diferentes a los de otro modelo.\n",
    "- Podemos juntar todas las predicciones en un único array, para visualizarlas frente a los valores reales."
   ]
  },
  {
   "cell_type": "code",
   "execution_count": 10,
   "id": "8c696ee6",
   "metadata": {},
   "outputs": [],
   "source": [
    "from sklearn.metrics import r2_score\n",
    "\n",
    "\n",
    "def analiza_resultados(dict_results, model_name):\n",
    "    '''\n",
    "    Analiza los resultados almacenados en el diccionario de resultados\n",
    "    Recorre las claves del diccionario y solo se queda con aquellas en las que\n",
    "    el nombre del modelo coincide con el parámetro indicado\n",
    "    \n",
    "    Utiliza los valores reales y predicciones para calcular y devolver las métricas que se quieran\n",
    "    '''\n",
    "    \n",
    "    # obtiene R2, pero podría obtener con las mismas cualquier métrica\n",
    "    # una ventaja de tener almacenadas las predicciones es poder calcular lo que se quiera\n",
    "    r2s = []\n",
    "    \n",
    "    results_ids = dict_results.keys()\n",
    "    model_results_id = filter(lambda x: x[0]==model_name,results_ids)\n",
    "    for result_id in model_results_id:\n",
    "        real,pred = dict_results[result_id]\n",
    "        r2s.append(r2_score(real,pred))\n",
    "    return np.array(r2s)\n",
    "        \n",
    "r2s_rf = analiza_resultados(resultados,\"Random Forest\")\n",
    "r2s_lr = analiza_resultados(resultados,\"Regresión Lineal\")"
   ]
  },
  {
   "cell_type": "markdown",
   "id": "cb944c9a",
   "metadata": {},
   "source": [
    "Se puede ver que Random Forest no solo tiene un R2 mayor que Regresión lineal, sino que la diferencia es significativa de acuerdo al test t de Student.\n",
    "\n",
    "Tener varios valores (uno por fold), nos permitirá hacer test bayesianos, de wilcoxon o lo que queramos."
   ]
  },
  {
   "cell_type": "code",
   "execution_count": 12,
   "id": "ccfbddde",
   "metadata": {},
   "outputs": [
    {
     "name": "stdout",
     "output_type": "stream",
     "text": [
      "0.11525542278583005\n",
      "0.03676733461201768\n",
      "0.006905910723087211\n"
     ]
    }
   ],
   "source": [
    "import scipy.stats as stats\n",
    "\n",
    "print(r2s_rf.mean())\n",
    "print(r2s_lr.mean())\n",
    "statistic,pvalue = stats.ttest_rel(r2s_rf, r2s_lr)\n",
    "print(pvalue)\n",
    "# metricas\n",
    "\n",
    "# visualizaciones"
   ]
  },
  {
   "cell_type": "code",
   "execution_count": 13,
   "id": "764ac0d7",
   "metadata": {},
   "outputs": [
    {
     "data": {
      "image/png": "[encoded data removed]",
      "text/plain": [
       "<Figure size 640x480 with 1 Axes>"
      ]
     },
     "metadata": {},
     "output_type": "display_data"
    },
    {
     "data": {
      "image/png": "[encoded data removed]",
      "text/plain": [
       "<Figure size 640x480 with 1 Axes>"
      ]
     },
     "metadata": {},
     "output_type": "display_data"
    }
   ],
   "source": [
    "def show_scatter_plot(dict_results, model_name):\n",
    "    '''\n",
    "    Función similar a la analiza_resultados, pero esta vez para dibujar las\n",
    "    predicciones frente a los valores reales-\n",
    "    '''\n",
    "    \n",
    "    reales = []\n",
    "    predicciones = []\n",
    "    \n",
    "    results_ids = dict_results.keys()\n",
    "    model_results_id = filter(lambda x: x[0]==model_name,results_ids)\n",
    "    \n",
    "    # junto en una única lista las predicciones y valores reales que están\n",
    "    # repartidos por varios folds\n",
    "    for result_id in model_results_id:\n",
    "        real,pred = dict_results[result_id]\n",
    "        reales.extend(real)\n",
    "        predicciones.extend(pred)\n",
    "        \n",
    "    df = pd.DataFrame({\"Y_real\":reales,\"Y_pred\":predicciones})\n",
    "    \n",
    "    df.plot(kind=\"scatter\",x=\"Y_real\",y=\"Y_pred\")\n",
    "    \n",
    "        \n",
    "show_scatter_plot(resultados,\"Random Forest\")\n",
    "show_scatter_plot(resultados,\"Regresión Lineal\")"
   ]
  },
  {
   "cell_type": "code",
   "execution_count": null,
   "id": "0485cf1c",
   "metadata": {},
   "outputs": [],
   "source": [
    "from sklearn.model_selection import cross_val_predict\n",
    "from sklearn import linear_model\n",
    "\n",
    "\n",
    "\n"
   ]
  },
  {
   "cell_type": "code",
   "execution_count": null,
   "id": "bfe6c571",
   "metadata": {},
   "outputs": [],
   "source": [
    "\n",
    "    "
   ]
  },
  {
   "cell_type": "markdown",
   "id": "b1b3e308",
   "metadata": {},
   "source": [
    "## Visualización de predicciones\n",
    "\n",
    "Creo que podemos usar todo los datos para entrenar el modelo"
   ]
  },
  {
   "cell_type": "code",
   "execution_count": null,
   "id": "48a592bc",
   "metadata": {},
   "outputs": [],
   "source": [
    "y_pred = RandomForestRegressor().fit(X_all,y_all).predict(X_all)\n",
    "\n"
   ]
  },
  {
   "cell_type": "code",
   "execution_count": null,
   "id": "eb3a7f3c",
   "metadata": {},
   "outputs": [],
   "source": []
  }
 ],
 "metadata": {
  "kernelspec": {
   "display_name": "Python 3",
   "language": "python",
   "name": "python3"
  },
  "language_info": {
   "codemirror_mode": {
    "name": "ipython",
    "version": 3
   },
   "file_extension": ".py",
   "mimetype": "text/x-python",
   "name": "python",
   "nbconvert_exporter": "python",
   "pygments_lexer": "ipython3",
   "version": "3.7.4"
  }
 },
 "nbformat": 4,
 "nbformat_minor": 5
}
